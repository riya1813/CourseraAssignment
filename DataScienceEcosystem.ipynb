{
 "cells": [
  {
   "cell_type": "markdown",
   "id": "f6e09a3f-7043-428a-a71e-d937c530c647",
   "metadata": {},
   "source": [
    "## Data Science Tools and Ecosystem"
   ]
  },
  {
   "cell_type": "markdown",
   "id": "6b6c1ec4-4268-4510-ac8a-9558c20d0211",
   "metadata": {},
   "source": [
    "In this notebook, Data Science Tools and Ecosystem are summarized.\n"
   ]
  },
  {
   "cell_type": "markdown",
   "id": "090f4c24-e177-4066-b2f1-34295c7c3397",
   "metadata": {},
   "source": [
    "Some of the popular languages that Data Scientists use are:\n",
    "1. Scala\n",
    "2. Python\n",
    "3. R"
   ]
  },
  {
   "cell_type": "markdown",
   "id": "fca5a51d-1e1e-4b9a-ba75-18340733e8cd",
   "metadata": {},
   "source": [
    "Some of the commonly used libraries used by Data Scientists include:\n",
    "1. Pandas\n",
    "2. dplyr\n",
    "3. ggplot2"
   ]
  },
  {
   "cell_type": "markdown",
   "id": "2197b79a-9b12-4f38-a5d8-05221750645a",
   "metadata": {},
   "source": [
    "|Data Science Tools|\n",
    "| --- |\n",
    "| Apache Spark |\n",
    "| Jupyter Notebook|\n",
    "| R|"
   ]
  },
  {
   "cell_type": "markdown",
   "id": "1f23f096-4c2c-450c-bdc5-39d0712aa048",
   "metadata": {},
   "source": [
    "#### Below are a few examples of evaluating arithmetic expressions in Python.\n"
   ]
  },
  {
   "cell_type": "code",
   "execution_count": 1,
   "id": "6dc23c7d-4df9-431f-b1e5-3bbb3ed86877",
   "metadata": {
    "tags": []
   },
   "outputs": [
    {
     "data": {
      "text/plain": [
       "17"
      ]
     },
     "execution_count": 1,
     "metadata": {},
     "output_type": "execute_result"
    }
   ],
   "source": [
    "# This a simple arithmetic expression to mutiply then add integers.\n",
    "(3*4)+5"
   ]
  },
  {
   "cell_type": "code",
   "execution_count": 2,
   "id": "9e8b6ad4-00ba-4cb6-a5ff-85e28272640e",
   "metadata": {
    "tags": []
   },
   "outputs": [
    {
     "data": {
      "text/plain": [
       "3.3333333333333335"
      ]
     },
     "execution_count": 2,
     "metadata": {},
     "output_type": "execute_result"
    }
   ],
   "source": [
    "# This will convert 200 minutes to hours by diving by 60.\n",
    "200/60"
   ]
  },
  {
   "cell_type": "markdown",
   "id": "61780e0a-e80e-48c1-9fe4-2ffe5573c80b",
   "metadata": {},
   "source": [
    "__Objectives:__\n",
    "- List popular languages for Data Science\n",
    "- List popular tools for Data Science\n",
    "- List popular libraries for Data Science"
   ]
  },
  {
   "cell_type": "markdown",
   "id": "7b56b18f-23ff-4b9a-a817-f6b3ecf44e73",
   "metadata": {},
   "source": [
    "### Author\n",
    "Riya Karmakar"
   ]
  },
  {
   "cell_type": "code",
   "execution_count": null,
   "id": "5456f3b9-4e7a-46e2-ac88-033078094518",
   "metadata": {},
   "outputs": [],
   "source": []
  }
 ],
 "metadata": {
  "kernelspec": {
   "display_name": "Python",
   "language": "python",
   "name": "conda-env-python-py"
  },
  "language_info": {
   "codemirror_mode": {
    "name": "ipython",
    "version": 3
   },
   "file_extension": ".py",
   "mimetype": "text/x-python",
   "name": "python",
   "nbconvert_exporter": "python",
   "pygments_lexer": "ipython3",
   "version": "3.7.12"
  }
 },
 "nbformat": 4,
 "nbformat_minor": 5
}
